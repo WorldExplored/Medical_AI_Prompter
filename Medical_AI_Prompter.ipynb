{
  "cells": [
    {
      "cell_type": "markdown",
      "metadata": {
        "id": "view-in-github",
        "colab_type": "text"
      },
      "source": [
        "<a href=\"https://colab.research.google.com/github/WorldExplored/Medical_AI_Prompter/blob/main/Medical_AI_Prompter.ipynb\" target=\"_parent\"><img src=\"https://colab.research.google.com/assets/colab-badge.svg\" alt=\"Open In Colab\"/></a>"
      ]
    },
    {
      "cell_type": "code",
      "source": [
        "!pip install replicate\n",
        "!pip install PyPDF2"
      ],
      "metadata": {
        "id": "ucoJgIg1GqGl",
        "colab": {
          "base_uri": "https://localhost:8080/"
        },
        "outputId": "337df9a8-a97f-4efa-c689-b43157f96978"
      },
      "execution_count": null,
      "outputs": [
        {
          "output_type": "stream",
          "name": "stdout",
          "text": [
            "Requirement already satisfied: replicate in /usr/local/lib/python3.10/dist-packages (0.26.0)\n",
            "Requirement already satisfied: httpx<1,>=0.21.0 in /usr/local/lib/python3.10/dist-packages (from replicate) (0.27.0)\n",
            "Requirement already satisfied: packaging in /usr/local/lib/python3.10/dist-packages (from replicate) (24.0)\n",
            "Requirement already satisfied: pydantic>1.10.7 in /usr/local/lib/python3.10/dist-packages (from replicate) (2.7.1)\n",
            "Requirement already satisfied: typing-extensions>=4.5.0 in /usr/local/lib/python3.10/dist-packages (from replicate) (4.11.0)\n",
            "Requirement already satisfied: anyio in /usr/local/lib/python3.10/dist-packages (from httpx<1,>=0.21.0->replicate) (3.7.1)\n",
            "Requirement already satisfied: certifi in /usr/local/lib/python3.10/dist-packages (from httpx<1,>=0.21.0->replicate) (2024.2.2)\n",
            "Requirement already satisfied: httpcore==1.* in /usr/local/lib/python3.10/dist-packages (from httpx<1,>=0.21.0->replicate) (1.0.5)\n",
            "Requirement already satisfied: idna in /usr/local/lib/python3.10/dist-packages (from httpx<1,>=0.21.0->replicate) (3.7)\n",
            "Requirement already satisfied: sniffio in /usr/local/lib/python3.10/dist-packages (from httpx<1,>=0.21.0->replicate) (1.3.1)\n",
            "Requirement already satisfied: h11<0.15,>=0.13 in /usr/local/lib/python3.10/dist-packages (from httpcore==1.*->httpx<1,>=0.21.0->replicate) (0.14.0)\n",
            "Requirement already satisfied: annotated-types>=0.4.0 in /usr/local/lib/python3.10/dist-packages (from pydantic>1.10.7->replicate) (0.7.0)\n",
            "Requirement already satisfied: pydantic-core==2.18.2 in /usr/local/lib/python3.10/dist-packages (from pydantic>1.10.7->replicate) (2.18.2)\n",
            "Requirement already satisfied: exceptiongroup in /usr/local/lib/python3.10/dist-packages (from anyio->httpx<1,>=0.21.0->replicate) (1.2.1)\n",
            "Requirement already satisfied: PyPDF2 in /usr/local/lib/python3.10/dist-packages (3.0.1)\n"
          ]
        }
      ]
    },
    {
      "cell_type": "code",
      "source": [
        "import PyPDF2\n",
        "import replicate\n",
        "from replicate.client import Client\n",
        "\n",
        "# PDF extraction\n",
        "file = input(\"PDF File Directory: \")\n",
        "pdf_file = open(file, 'rb')\n",
        "pdf_reader = PyPDF2.PdfReader(pdf_file)\n",
        "num_pages = len(pdf_reader.pages)\n",
        "text = ''\n",
        "\n",
        "for page_num in range(num_pages):\n",
        "    page = pdf_reader.pages[page_num]\n",
        "    page_text = page.extract_text()\n",
        "    text += page_text\n",
        "\n",
        "pdf_file.close()\n",
        "\n",
        "# Initialize the Replicate Client with your API token\n",
        "client = Client(api_token=\"r8_YlX943jw2pCjXrHLGoZEk0E6m3uO4zP07oTAt\")\n",
        "\n",
        "# Function to interact with the LLM\n",
        "def ask_medical_llm(client, question, chat_log=None):\n",
        "    if chat_log is None:\n",
        "        chat_log = []\n",
        "\n",
        "    chat_log.append({\"role\": \"user\", \"content\": question})\n",
        "    prompt = \"\\n\\n\".join([f\"{entry['role']}: {entry['content']}\" for entry in chat_log])\n",
        "\n",
        "    output = client.run(\n",
        "        ref=\"meta/meta-llama-3-70b-instruct\",\n",
        "        input={\"prompt\": prompt}\n",
        "    )\n",
        "\n",
        "    answer = ''.join(output)\n",
        "    chat_log.append({\"role\": \"assistant\", \"content\": answer})\n",
        "\n",
        "    return answer, chat_log\n",
        "\n",
        "# Chunk the extracted text to avoid exceeding the maximum input length\n",
        "def chunk_text(text, chunk_size=250):\n",
        "    for i in range(0, len(text), chunk_size):\n",
        "        yield text[i:i + chunk_size]\n",
        "\n",
        "# List of questions to be asked to the LLM\n",
        "questions = {\n",
        "    \"Publication Year\": \"Provide the publication year.\",\n",
        "    \"Disease\": \"Write down the disease condition from the methods/introduction section of the publication.\",\n",
        "    \"Location\": \"Provide the study location information.\",\n",
        "    \"Pt/Ptcpnt data\": \"Does the study include patient or participant data? (Yes/No)\",\n",
        "    \"Relevant\": \"Is the publication relevant based on patient data for a rare disease condition and location in the US? (Yes/No)\",\n",
        "    \"Reason\": \"If relevant, provide the reason.\",\n",
        "    \"Study type\": \"Provide the type of study.\",\n",
        "    \"Data Source\": \"Mention any data source like a database or a genebank.\",\n",
        "    \"Notes\": \"Capture any useful notes for analysis.\",\n",
        "    \"Age\": \"Is age reported? (Yes/No)\",\n",
        "    \"Reported Sex/Gender\": \"Report the gender/sex reported.\",\n",
        "    \"Race\": \"Is race reported? (Yes/No)\",\n",
        "    \"Ethnicity\": \"Is ethnicity reported? (Yes/No)\",\n",
        "    \"Language\": \"Is language reported? (Yes/No)\",\n",
        "    \"Education\": \"Is education reported? (Yes/No)\",\n",
        "    \"Employment\": \"Is employment reported? (Yes/No)\",\n",
        "    \"Residence/practice location\": \"Provide residence/practice location if available.\",\n",
        "    \"Relationship status\": \"Is relationship status reported? (Yes/No)\",\n",
        "    \"Medical or Health Insurance\": \"Is medical or health insurance reported? (Yes/No)\",\n",
        "    \"Social support\": \"Is social support reported? (Yes/No)\",\n",
        "    \"Number of participants\": \"Provide the number of participants.\",\n",
        "    \"Gender, % Female\": \"Provide the percentage of female participants. Find the EXPLICIT number.\",\n",
        "    \"Gender, % Male\": \"Provide the percentage of male participants. Find the EXPLICIT number.\",\n",
        "    \"Gender, % others\": \"Provide the percentage of other gender categories. Find the EXPLICIT number.\",\n",
        "    \"% White\": \"Provide the percentage of White participants. Find the EXPLICIT number.\",\n",
        "    \"% Black or African American\": \"Provide the percentage of Black or African American participants. Find the EXPLICIT number.\",\n",
        "    \"% Asian\": \"Provide the percentage of Asian participants. Find the EXPLICIT number.\",\n",
        "    \"% Native Hawaiian or Other Pacific Islander\": \"Provide the percentage of Native Hawaiian or Other Pacific Islander participants. Find the EXPLICIT number.\",\n",
        "    \"% American Indian or Alaska Native\": \"Provide the percentage of American Indian or Alaska Native participants. Find the EXPLICIT number.\",\n",
        "    \"% Others\": \"Provide the percentage of participants from other races. Find the EXPLICIT number.\",\n",
        "    \"% Mixed race/multiracial\": \"Provide the percentage of mixed race/multiracial participants. Find the EXPLICIT number.\",\n",
        "    \"RNR (race not reported/ unknown)\": \"Is race not reported or unknown? (Yes/No)\",\n",
        "    \"% Hispanic or Latino\": \"Provide the percentage of Hispanic or Latino participants. Find the EXPLICIT number.\",\n",
        "    \"% H/Other/Missing\": \"Provide the percentage of H/Other/Missing participants. Find the EXPLICIT number.\",\n",
        "    \"% Non Hispanic\": \"Provide the percentage of Non-Hispanic participants. Find the EXPLICIT number.\",\n",
        "    \"Non White%\": \"Provide the percentage of Non-White participants.\",\n",
        "    \"Ethnicity not reported/ unknown\": \"Is ethnicity not reported or unknown? (Yes/No)\",\n",
        "    \"College or more\": \"Is college or more education level reported? (Yes/No)\",\n",
        "    \"Some college\": \"Is some college education level reported? (Yes/No)\",\n",
        "    \"High school or less\": \"Is high school or less education level reported? (Yes/No)\",\n",
        "    \"Employment\": \"Is employment status reported? (Yes/No)\",\n",
        "    \"% Urban\": \"Provide the percentage of urban participants.\",\n",
        "    \"% Rural\": \"Provide the percentage of rural participants.\",\n",
        "    \"% Suburban\": \"Provide the percentage of suburban participants.\",\n",
        "    \"% Location not reported\": \"Provide the percentage of participants with location not reported.\",\n",
        "    \"Commercial/Private medical funding\": \"Provide the percentage of participants with commercial/private medical funding.\",\n",
        "    \"Government medical funding\": \"Provide the percentage of participants with government medical funding.\",\n",
        "    \"Self funding\": \"Provide the percentage of participants with self-funding.\",\n",
        "    \"Other/Unknown\": \"Provide the percentage of participants with other/unknown funding.\",\n",
        "    \"Married/ever married\": \"Is married/ever married status reported? (Yes/No)\",\n",
        "    \"Single/never married\": \"Is single/never married status reported? (Yes/No)\",\n",
        "    \"Unknown\": \"Is marital status unknown? (Yes/No)\",\n",
        "    \"Disability allowance/DDSN data\": \"Is disability allowance/DDSN data reported? (Yes/No)\",\n",
        "    \"Special education assistance\": \"Is special education assistance reported? (Yes/No)\",\n",
        "    \"Food assistance\": \"Is food assistance reported? (Yes/No)\"\n",
        "}\n",
        "\n",
        "# Function to fill in the blanks with answers from the LLM\n",
        "def fill_in_blanks():\n",
        "    chat_log = []\n",
        "    for field, question in questions.items():\n",
        "        question_answered = False\n",
        "        for text_chunk in chunk_text(text):\n",
        "            question_with_text = f\"Based on the provided text, answer this: {question}\\n\\nText: {text_chunk}\\n You MUST be concise as possible.\"\n",
        "            if len(question_with_text) <= 8000:\n",
        "                answer, chat_log = ask_medical_llm(client, question_with_text, chat_log)\n",
        "                if answer.strip() != \"NR\":\n",
        "                    questions[field] = answer.strip()\n",
        "                    question_answered = True\n",
        "                    break\n",
        "        if not question_answered:\n",
        "            questions[field] = \"NR\"\n",
        "        print(f\"Updated {field}: {questions[field]}\")\n",
        "\n",
        "fill_in_blanks()\n",
        "\n",
        "# Interactive part for user queries\n",
        "e = \"blank\"\n",
        "while e:\n",
        "    e = input(\"What is your query? \")\n",
        "    if e.lower() in [\"exit\", \"quit\"]:\n",
        "        break\n",
        "    ans, log = ask_medical_llm(client, e, chat_log)\n",
        "    print(ans)\n"
      ],
      "metadata": {
        "colab": {
          "base_uri": "https://localhost:8080/",
          "height": 724
        },
        "id": "zAjz1nX0W_2d",
        "outputId": "3d3b8efe-0ce3-4e4c-d4db-38711b7f05ec"
      },
      "execution_count": null,
      "outputs": [
        {
          "output_type": "stream",
          "name": "stdout",
          "text": [
            "PDF File Directory: u.pdf\n",
            "Updated Publication Year: There is no publication year provided in the given text. The text appears to be a jumbled collection of characters and does not contain any meaningful information, including a publication year.\n",
            "Updated Disease: There is no disease condition mentioned in the provided text. The text appears to be a jumbled collection of characters and does not contain any meaningful information.\n",
            "Updated Location: There is no study location information provided in the given text.\n",
            "Updated Pt/Ptcpnt data: No\n",
            "Updated Relevant: No\n",
            "Updated Reason: Not applicable, as the text is a jumbled collection of characters and does not contain any meaningful information.\n",
            "Updated Study type: Not applicable, as the text is a jumbled collection of characters and does not contain any meaningful information.\n",
            "Updated Data Source: None\n",
            "Updated Notes: None, as the text is a jumbled collection of characters and does not contain any meaningful information.\n",
            "Updated Age: No\n",
            "Updated Reported Sex/Gender: Not reported\n",
            "Updated Race: No\n",
            "Updated Ethnicity: No\n",
            "Updated Language: No\n",
            "Updated Education: No\n",
            "Updated Employment: No\n",
            "Updated Residence/practice location: Not available.\n",
            "Updated Relationship status: No\n"
          ]
        },
        {
          "output_type": "error",
          "ename": "KeyboardInterrupt",
          "evalue": "",
          "traceback": [
            "\u001b[0;31m---------------------------------------------------------------------------\u001b[0m",
            "\u001b[0;31mKeyboardInterrupt\u001b[0m                         Traceback (most recent call last)",
            "\u001b[0;32m<ipython-input-35-cdc84a4fda0e>\u001b[0m in \u001b[0;36m<cell line: 121>\u001b[0;34m()\u001b[0m\n\u001b[1;32m    119\u001b[0m         \u001b[0mprint\u001b[0m\u001b[0;34m(\u001b[0m\u001b[0;34mf\"Updated {field}: {questions[field]}\"\u001b[0m\u001b[0;34m)\u001b[0m\u001b[0;34m\u001b[0m\u001b[0;34m\u001b[0m\u001b[0m\n\u001b[1;32m    120\u001b[0m \u001b[0;34m\u001b[0m\u001b[0m\n\u001b[0;32m--> 121\u001b[0;31m \u001b[0mfill_in_blanks\u001b[0m\u001b[0;34m(\u001b[0m\u001b[0;34m)\u001b[0m\u001b[0;34m\u001b[0m\u001b[0;34m\u001b[0m\u001b[0m\n\u001b[0m\u001b[1;32m    122\u001b[0m \u001b[0;34m\u001b[0m\u001b[0m\n\u001b[1;32m    123\u001b[0m \u001b[0;31m# Interactive part for user queries\u001b[0m\u001b[0;34m\u001b[0m\u001b[0;34m\u001b[0m\u001b[0m\n",
            "\u001b[0;32m<ipython-input-35-cdc84a4fda0e>\u001b[0m in \u001b[0;36mfill_in_blanks\u001b[0;34m()\u001b[0m\n\u001b[1;32m    110\u001b[0m             \u001b[0mquestion_with_text\u001b[0m \u001b[0;34m=\u001b[0m \u001b[0;34mf\"Based on the provided text, answer this: {question}\\n\\nText: {text_chunk}\\n You MUST be concise as possible.\"\u001b[0m\u001b[0;34m\u001b[0m\u001b[0;34m\u001b[0m\u001b[0m\n\u001b[1;32m    111\u001b[0m             \u001b[0;32mif\u001b[0m \u001b[0mlen\u001b[0m\u001b[0;34m(\u001b[0m\u001b[0mquestion_with_text\u001b[0m\u001b[0;34m)\u001b[0m \u001b[0;34m<=\u001b[0m \u001b[0;36m8000\u001b[0m\u001b[0;34m:\u001b[0m\u001b[0;34m\u001b[0m\u001b[0;34m\u001b[0m\u001b[0m\n\u001b[0;32m--> 112\u001b[0;31m                 \u001b[0manswer\u001b[0m\u001b[0;34m,\u001b[0m \u001b[0mchat_log\u001b[0m \u001b[0;34m=\u001b[0m \u001b[0mask_medical_llm\u001b[0m\u001b[0;34m(\u001b[0m\u001b[0mclient\u001b[0m\u001b[0;34m,\u001b[0m \u001b[0mquestion_with_text\u001b[0m\u001b[0;34m,\u001b[0m \u001b[0mchat_log\u001b[0m\u001b[0;34m)\u001b[0m\u001b[0;34m\u001b[0m\u001b[0;34m\u001b[0m\u001b[0m\n\u001b[0m\u001b[1;32m    113\u001b[0m                 \u001b[0;32mif\u001b[0m \u001b[0manswer\u001b[0m\u001b[0;34m.\u001b[0m\u001b[0mstrip\u001b[0m\u001b[0;34m(\u001b[0m\u001b[0;34m)\u001b[0m \u001b[0;34m!=\u001b[0m \u001b[0;34m\"NR\"\u001b[0m\u001b[0;34m:\u001b[0m\u001b[0;34m\u001b[0m\u001b[0;34m\u001b[0m\u001b[0m\n\u001b[1;32m    114\u001b[0m                     \u001b[0mquestions\u001b[0m\u001b[0;34m[\u001b[0m\u001b[0mfield\u001b[0m\u001b[0;34m]\u001b[0m \u001b[0;34m=\u001b[0m \u001b[0manswer\u001b[0m\u001b[0;34m.\u001b[0m\u001b[0mstrip\u001b[0m\u001b[0;34m(\u001b[0m\u001b[0;34m)\u001b[0m\u001b[0;34m\u001b[0m\u001b[0;34m\u001b[0m\u001b[0m\n",
            "\u001b[0;32m<ipython-input-35-cdc84a4fda0e>\u001b[0m in \u001b[0;36mask_medical_llm\u001b[0;34m(client, question, chat_log)\u001b[0m\n\u001b[1;32m     28\u001b[0m     \u001b[0mprompt\u001b[0m \u001b[0;34m=\u001b[0m \u001b[0;34m\"\\n\\n\"\u001b[0m\u001b[0;34m.\u001b[0m\u001b[0mjoin\u001b[0m\u001b[0;34m(\u001b[0m\u001b[0;34m[\u001b[0m\u001b[0;34mf\"{entry['role']}: {entry['content']}\"\u001b[0m \u001b[0;32mfor\u001b[0m \u001b[0mentry\u001b[0m \u001b[0;32min\u001b[0m \u001b[0mchat_log\u001b[0m\u001b[0;34m]\u001b[0m\u001b[0;34m)\u001b[0m\u001b[0;34m\u001b[0m\u001b[0;34m\u001b[0m\u001b[0m\n\u001b[1;32m     29\u001b[0m \u001b[0;34m\u001b[0m\u001b[0m\n\u001b[0;32m---> 30\u001b[0;31m     output = client.run(\n\u001b[0m\u001b[1;32m     31\u001b[0m         \u001b[0mref\u001b[0m\u001b[0;34m=\u001b[0m\u001b[0;34m\"meta/meta-llama-3-70b-instruct\"\u001b[0m\u001b[0;34m,\u001b[0m\u001b[0;34m\u001b[0m\u001b[0;34m\u001b[0m\u001b[0m\n\u001b[1;32m     32\u001b[0m         \u001b[0minput\u001b[0m\u001b[0;34m=\u001b[0m\u001b[0;34m{\u001b[0m\u001b[0;34m\"prompt\"\u001b[0m\u001b[0;34m:\u001b[0m \u001b[0mprompt\u001b[0m\u001b[0;34m}\u001b[0m\u001b[0;34m\u001b[0m\u001b[0;34m\u001b[0m\u001b[0m\n",
            "\u001b[0;32m/usr/local/lib/python3.10/dist-packages/replicate/client.py\u001b[0m in \u001b[0;36mrun\u001b[0;34m(self, ref, input, **params)\u001b[0m\n\u001b[1;32m    155\u001b[0m         \"\"\"\n\u001b[1;32m    156\u001b[0m \u001b[0;34m\u001b[0m\u001b[0m\n\u001b[0;32m--> 157\u001b[0;31m         \u001b[0;32mreturn\u001b[0m \u001b[0mrun\u001b[0m\u001b[0;34m(\u001b[0m\u001b[0mself\u001b[0m\u001b[0;34m,\u001b[0m \u001b[0mref\u001b[0m\u001b[0;34m,\u001b[0m \u001b[0minput\u001b[0m\u001b[0;34m,\u001b[0m \u001b[0;34m**\u001b[0m\u001b[0mparams\u001b[0m\u001b[0;34m)\u001b[0m\u001b[0;34m\u001b[0m\u001b[0;34m\u001b[0m\u001b[0m\n\u001b[0m\u001b[1;32m    158\u001b[0m \u001b[0;34m\u001b[0m\u001b[0m\n\u001b[1;32m    159\u001b[0m     async def async_run(\n",
            "\u001b[0;32m/usr/local/lib/python3.10/dist-packages/replicate/run.py\u001b[0m in \u001b[0;36mrun\u001b[0;34m(client, ref, input, **params)\u001b[0m\n\u001b[1;32m     56\u001b[0m         \u001b[0;32mreturn\u001b[0m \u001b[0miterator\u001b[0m\u001b[0;34m\u001b[0m\u001b[0;34m\u001b[0m\u001b[0m\n\u001b[1;32m     57\u001b[0m \u001b[0;34m\u001b[0m\u001b[0m\n\u001b[0;32m---> 58\u001b[0;31m     \u001b[0mprediction\u001b[0m\u001b[0;34m.\u001b[0m\u001b[0mwait\u001b[0m\u001b[0;34m(\u001b[0m\u001b[0;34m)\u001b[0m\u001b[0;34m\u001b[0m\u001b[0;34m\u001b[0m\u001b[0m\n\u001b[0m\u001b[1;32m     59\u001b[0m \u001b[0;34m\u001b[0m\u001b[0m\n\u001b[1;32m     60\u001b[0m     \u001b[0;32mif\u001b[0m \u001b[0mprediction\u001b[0m\u001b[0;34m.\u001b[0m\u001b[0mstatus\u001b[0m \u001b[0;34m==\u001b[0m \u001b[0;34m\"failed\"\u001b[0m\u001b[0;34m:\u001b[0m\u001b[0;34m\u001b[0m\u001b[0;34m\u001b[0m\u001b[0m\n",
            "\u001b[0;32m/usr/local/lib/python3.10/dist-packages/replicate/prediction.py\u001b[0m in \u001b[0;36mwait\u001b[0;34m(self)\u001b[0m\n\u001b[1;32m    142\u001b[0m \u001b[0;34m\u001b[0m\u001b[0m\n\u001b[1;32m    143\u001b[0m         \u001b[0;32mwhile\u001b[0m \u001b[0mself\u001b[0m\u001b[0;34m.\u001b[0m\u001b[0mstatus\u001b[0m \u001b[0;32mnot\u001b[0m \u001b[0;32min\u001b[0m \u001b[0;34m[\u001b[0m\u001b[0;34m\"succeeded\"\u001b[0m\u001b[0;34m,\u001b[0m \u001b[0;34m\"failed\"\u001b[0m\u001b[0;34m,\u001b[0m \u001b[0;34m\"canceled\"\u001b[0m\u001b[0;34m]\u001b[0m\u001b[0;34m:\u001b[0m\u001b[0;34m\u001b[0m\u001b[0;34m\u001b[0m\u001b[0m\n\u001b[0;32m--> 144\u001b[0;31m             \u001b[0mtime\u001b[0m\u001b[0;34m.\u001b[0m\u001b[0msleep\u001b[0m\u001b[0;34m(\u001b[0m\u001b[0mself\u001b[0m\u001b[0;34m.\u001b[0m\u001b[0m_client\u001b[0m\u001b[0;34m.\u001b[0m\u001b[0mpoll_interval\u001b[0m\u001b[0;34m)\u001b[0m\u001b[0;34m\u001b[0m\u001b[0;34m\u001b[0m\u001b[0m\n\u001b[0m\u001b[1;32m    145\u001b[0m             \u001b[0mself\u001b[0m\u001b[0;34m.\u001b[0m\u001b[0mreload\u001b[0m\u001b[0;34m(\u001b[0m\u001b[0;34m)\u001b[0m\u001b[0;34m\u001b[0m\u001b[0;34m\u001b[0m\u001b[0m\n\u001b[1;32m    146\u001b[0m \u001b[0;34m\u001b[0m\u001b[0m\n",
            "\u001b[0;31mKeyboardInterrupt\u001b[0m: "
          ]
        }
      ]
    }
  ],
  "metadata": {
    "colab": {
      "provenance": [],
      "gpuType": "T4",
      "include_colab_link": true
    },
    "kernelspec": {
      "display_name": "Python 3",
      "name": "python3"
    },
    "language_info": {
      "name": "python"
    }
  },
  "nbformat": 4,
  "nbformat_minor": 0
}